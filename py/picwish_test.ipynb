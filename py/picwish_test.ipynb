{
 "cells": [
  {
   "cell_type": "code",
   "execution_count": 1,
   "id": "d850e88c",
   "metadata": {},
   "outputs": [
    {
     "name": "stdout",
     "output_type": "stream",
     "text": [
      "{\"status\":200,\"data\":{\"completed_at\":1699248279,\"created_at\":1699248280,\"download_time\":18,\"err_info\":\"\",\"foreground_rect\":{\"x\":56,\"y\":59,\"width\":483,\"height\":373},\"image\":\"https://wxtechhk.oss-cn-hongkong.aliyuncs.com/tasks/output/segmentation/4f7e63dc-fc4a-4a9d-bc41-be62d1de555c-image.png?Expires=1699251880\\u0026OSSAccessKeyId=LTAI5tGjJnh66c1txANiRBQN\\u0026Signature=v30qo0wYyN7AU9/cRGiOWH0BJHc%3D\",\"image_height\":432,\"image_width\":540,\"output_type\":2,\"processed_at\":1699248279,\"progress\":100,\"result_type\":\"person\",\"return_type\":1,\"state\":1,\"state_detail\":\"Complete\",\"task_id\":\"4f7e63dc-fc4a-4a9d-bc41-be62d1de555c\",\"time_elapsed\":152.27999877929688,\"type\":\"auto\"}}\n"
     ]
    }
   ],
   "source": [
    "import requests\n",
    "\n",
    "api_key = \"wx9sjlg1796km3kfm\"\n",
    "\n",
    "response = requests.request(\n",
    "\"POST\", \n",
    "\"https://techhk.aoscdn.com/api/tasks/visual/segmentation\", \n",
    "headers= {'X-API-KEY': api_key}, \n",
    "data={'sync': '1'}, \n",
    "files= {'image_file': open('ore.jpg', 'rb')}\n",
    ")\n",
    "print(response.text)"
   ]
  },
  {
   "cell_type": "code",
   "execution_count": null,
   "id": "2bd91f07",
   "metadata": {},
   "outputs": [],
   "source": []
  }
 ],
 "metadata": {
  "kernelspec": {
   "display_name": "Python 3 (ipykernel)",
   "language": "python",
   "name": "python3"
  },
  "language_info": {
   "codemirror_mode": {
    "name": "ipython",
    "version": 3
   },
   "file_extension": ".py",
   "mimetype": "text/x-python",
   "name": "python",
   "nbconvert_exporter": "python",
   "pygments_lexer": "ipython3",
   "version": "3.9.13"
  }
 },
 "nbformat": 4,
 "nbformat_minor": 5
}
